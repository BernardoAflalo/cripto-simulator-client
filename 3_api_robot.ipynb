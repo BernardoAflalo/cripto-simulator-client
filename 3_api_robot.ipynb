{
 "cells": [
  {
   "cell_type": "code",
   "execution_count": 1,
   "metadata": {},
   "outputs": [
    {
     "name": "stdout",
     "output_type": "stream",
     "text": [
      " * Serving Flask app \"__main__\" (lazy loading)\n",
      " * Environment: production\n",
      "   WARNING: This is a development server. Do not use it in a production deployment.\n",
      "   Use a production WSGI server instead.\n",
      " * Debug mode: off\n"
     ]
    },
    {
     "name": "stderr",
     "output_type": "stream",
     "text": [
      " * Running on http://127.0.0.1:5000/ (Press CTRL+C to quit)\n"
     ]
    }
   ],
   "source": [
    "from flask import Flask, jsonify, request\n",
    "from flasgger import Swagger\n",
    "from simple_robot import feature_eng, api_get, api_post, get_result, compute_quantity, how_much_i_have, my_robot\n",
    "import numpy as np\n",
    "import pandas as pd\n",
    "import math\n",
    "from sqlalchemy import create_engine\n",
    "app = Flask(__name__)\n",
    "token = 'token_dummy_001'\n",
    "\n",
    "@app.route(\"/\")\n",
    "def index():\n",
    "    return \"Robo Cripto\"\n",
    "\n",
    "@app.route('/wakeup', methods=[\"POST\"])\n",
    "def wakeup():\n",
    "    \"\"\"\n",
    "    Exemplo de Utilização:\n",
    "    \n",
    "    import requests\n",
    "    url = 'http://127.0.0.1:5000/wakeup'\n",
    "    try:\n",
    "        x = requests.post(, data = {'time': 10}, timeout=6) \n",
    "    except requests.exceptions.ReadTimeout: \n",
    "        pass\n",
    "    \"\"\"\n",
    "    tempo = int(request.form.get(\"time\"))\n",
    "    if not tempo:\n",
    "        return \"Group token must be provided\", None\n",
    "    \n",
    "    # my_robot é a função com o loop que realiza as compras/ vendas (conforme notebook 2_my_robot.ipynb)\n",
    "    my_robot(tempo, token)\n",
    "    \n",
    "app.run()"
   ]
  }
 ],
 "metadata": {
  "kernelspec": {
   "display_name": "Python (Cripto Bot)",
   "language": "python",
   "name": "cripto_bot"
  },
  "language_info": {
   "codemirror_mode": {
    "name": "ipython",
    "version": 3
   },
   "file_extension": ".py",
   "mimetype": "text/x-python",
   "name": "python",
   "nbconvert_exporter": "python",
   "pygments_lexer": "ipython3",
   "version": "3.7.6"
  }
 },
 "nbformat": 4,
 "nbformat_minor": 4
}
