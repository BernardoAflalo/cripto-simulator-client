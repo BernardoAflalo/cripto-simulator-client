{
 "cells": [
  {
   "cell_type": "code",
   "execution_count": 1,
   "metadata": {},
   "outputs": [],
   "source": [
    "import requests\n",
    "from datetime import datetime\n",
    "import pandas as pd\n",
    "import time\n",
    "import json\n",
    "from simple_robot import api_get, api_post, get_result\n",
    "token = 'token_dummy_001'"
   ]
  },
  {
   "cell_type": "code",
   "execution_count": 8,
   "metadata": {},
   "outputs": [
    {
     "data": {
      "text/plain": [
       "'BTCUSDT (bitcoin - dólar), DOGEUSDT (dogecoin - dólar), ETHUSDT (ethereum - dólar)'"
      ]
     },
     "execution_count": 8,
     "metadata": {},
     "output_type": "execute_result"
    }
   ],
   "source": [
    "# Verificando cripto disponíveis\n",
    "api_get('available_cripto')"
   ]
  },
  {
   "cell_type": "code",
   "execution_count": 9,
   "metadata": {},
   "outputs": [
    {
     "data": {
      "text/html": [
       "<div>\n",
       "<style scoped>\n",
       "    .dataframe tbody tr th:only-of-type {\n",
       "        vertical-align: middle;\n",
       "    }\n",
       "\n",
       "    .dataframe tbody tr th {\n",
       "        vertical-align: top;\n",
       "    }\n",
       "\n",
       "    .dataframe thead th {\n",
       "        text-align: right;\n",
       "    }\n",
       "</style>\n",
       "<table border=\"1\" class=\"dataframe\">\n",
       "  <thead>\n",
       "    <tr style=\"text-align: right;\">\n",
       "      <th></th>\n",
       "      <th>symbol</th>\n",
       "      <th>datetime</th>\n",
       "      <th>open</th>\n",
       "      <th>high</th>\n",
       "      <th>low</th>\n",
       "      <th>close</th>\n",
       "      <th>volume</th>\n",
       "      <th>number_of_trades</th>\n",
       "    </tr>\n",
       "  </thead>\n",
       "  <tbody>\n",
       "    <tr>\n",
       "      <th>0</th>\n",
       "      <td>BTCUSDT</td>\n",
       "      <td>2021-08-08 07:24:00</td>\n",
       "      <td>45185.24</td>\n",
       "      <td>45200.00</td>\n",
       "      <td>45178.13</td>\n",
       "      <td>45186.62</td>\n",
       "      <td>14.6</td>\n",
       "      <td>1421</td>\n",
       "    </tr>\n",
       "    <tr>\n",
       "      <th>1</th>\n",
       "      <td>BTCUSDT</td>\n",
       "      <td>2021-08-08 07:25:00</td>\n",
       "      <td>45186.62</td>\n",
       "      <td>45200.00</td>\n",
       "      <td>45143.10</td>\n",
       "      <td>45148.99</td>\n",
       "      <td>33.1</td>\n",
       "      <td>1825</td>\n",
       "    </tr>\n",
       "    <tr>\n",
       "      <th>2</th>\n",
       "      <td>BTCUSDT</td>\n",
       "      <td>2021-08-08 07:26:00</td>\n",
       "      <td>45149.00</td>\n",
       "      <td>45166.14</td>\n",
       "      <td>45113.67</td>\n",
       "      <td>45123.69</td>\n",
       "      <td>41.0</td>\n",
       "      <td>1731</td>\n",
       "    </tr>\n",
       "    <tr>\n",
       "      <th>3</th>\n",
       "      <td>BTCUSDT</td>\n",
       "      <td>2021-08-08 07:27:00</td>\n",
       "      <td>45123.69</td>\n",
       "      <td>45174.97</td>\n",
       "      <td>45102.19</td>\n",
       "      <td>45136.64</td>\n",
       "      <td>54.3</td>\n",
       "      <td>1926</td>\n",
       "    </tr>\n",
       "    <tr>\n",
       "      <th>4</th>\n",
       "      <td>BTCUSDT</td>\n",
       "      <td>2021-08-08 07:28:00</td>\n",
       "      <td>45136.64</td>\n",
       "      <td>45160.12</td>\n",
       "      <td>45136.63</td>\n",
       "      <td>45141.16</td>\n",
       "      <td>11.0</td>\n",
       "      <td>943</td>\n",
       "    </tr>\n",
       "    <tr>\n",
       "      <th>...</th>\n",
       "      <td>...</td>\n",
       "      <td>...</td>\n",
       "      <td>...</td>\n",
       "      <td>...</td>\n",
       "      <td>...</td>\n",
       "      <td>...</td>\n",
       "      <td>...</td>\n",
       "      <td>...</td>\n",
       "    </tr>\n",
       "    <tr>\n",
       "      <th>495</th>\n",
       "      <td>BTCUSDT</td>\n",
       "      <td>2021-08-08 15:39:00</td>\n",
       "      <td>44116.62</td>\n",
       "      <td>44190.00</td>\n",
       "      <td>44111.24</td>\n",
       "      <td>44162.64</td>\n",
       "      <td>69.2</td>\n",
       "      <td>1574</td>\n",
       "    </tr>\n",
       "    <tr>\n",
       "      <th>496</th>\n",
       "      <td>BTCUSDT</td>\n",
       "      <td>2021-08-08 15:40:00</td>\n",
       "      <td>44162.63</td>\n",
       "      <td>44170.48</td>\n",
       "      <td>44069.48</td>\n",
       "      <td>44159.75</td>\n",
       "      <td>48.1</td>\n",
       "      <td>1196</td>\n",
       "    </tr>\n",
       "    <tr>\n",
       "      <th>497</th>\n",
       "      <td>BTCUSDT</td>\n",
       "      <td>2021-08-08 15:41:00</td>\n",
       "      <td>44159.76</td>\n",
       "      <td>44159.76</td>\n",
       "      <td>44043.87</td>\n",
       "      <td>44044.87</td>\n",
       "      <td>34.2</td>\n",
       "      <td>1044</td>\n",
       "    </tr>\n",
       "    <tr>\n",
       "      <th>498</th>\n",
       "      <td>BTCUSDT</td>\n",
       "      <td>2021-08-08 15:42:00</td>\n",
       "      <td>44044.86</td>\n",
       "      <td>44095.89</td>\n",
       "      <td>44044.40</td>\n",
       "      <td>44061.52</td>\n",
       "      <td>28.3</td>\n",
       "      <td>710</td>\n",
       "    </tr>\n",
       "    <tr>\n",
       "      <th>499</th>\n",
       "      <td>BTCUSDT</td>\n",
       "      <td>2021-08-08 15:43:00</td>\n",
       "      <td>44061.52</td>\n",
       "      <td>44067.23</td>\n",
       "      <td>44014.49</td>\n",
       "      <td>44020.00</td>\n",
       "      <td>16.9</td>\n",
       "      <td>564</td>\n",
       "    </tr>\n",
       "  </tbody>\n",
       "</table>\n",
       "<p>500 rows × 8 columns</p>\n",
       "</div>"
      ],
      "text/plain": [
       "      symbol            datetime      open      high       low     close  \\\n",
       "0    BTCUSDT 2021-08-08 07:24:00  45185.24  45200.00  45178.13  45186.62   \n",
       "1    BTCUSDT 2021-08-08 07:25:00  45186.62  45200.00  45143.10  45148.99   \n",
       "2    BTCUSDT 2021-08-08 07:26:00  45149.00  45166.14  45113.67  45123.69   \n",
       "3    BTCUSDT 2021-08-08 07:27:00  45123.69  45174.97  45102.19  45136.64   \n",
       "4    BTCUSDT 2021-08-08 07:28:00  45136.64  45160.12  45136.63  45141.16   \n",
       "..       ...                 ...       ...       ...       ...       ...   \n",
       "495  BTCUSDT 2021-08-08 15:39:00  44116.62  44190.00  44111.24  44162.64   \n",
       "496  BTCUSDT 2021-08-08 15:40:00  44162.63  44170.48  44069.48  44159.75   \n",
       "497  BTCUSDT 2021-08-08 15:41:00  44159.76  44159.76  44043.87  44044.87   \n",
       "498  BTCUSDT 2021-08-08 15:42:00  44044.86  44095.89  44044.40  44061.52   \n",
       "499  BTCUSDT 2021-08-08 15:43:00  44061.52  44067.23  44014.49  44020.00   \n",
       "\n",
       "     volume  number_of_trades  \n",
       "0      14.6              1421  \n",
       "1      33.1              1825  \n",
       "2      41.0              1731  \n",
       "3      54.3              1926  \n",
       "4      11.0               943  \n",
       "..      ...               ...  \n",
       "495    69.2              1574  \n",
       "496    48.1              1196  \n",
       "497    34.2              1044  \n",
       "498    28.3               710  \n",
       "499    16.9               564  \n",
       "\n",
       "[500 rows x 8 columns]"
      ]
     },
     "execution_count": 9,
     "metadata": {},
     "output_type": "execute_result"
    }
   ],
   "source": [
    "# Cotação dos últimos 500 minutos (OHLC) de uma cripto\n",
    "api_post('cripto_quotation', {'token': token, 'ticker': 'BTCUSDT'})"
   ]
  },
  {
   "cell_type": "code",
   "execution_count": 3,
   "metadata": {},
   "outputs": [
    {
     "data": {
      "text/html": [
       "<div>\n",
       "<style scoped>\n",
       "    .dataframe tbody tr th:only-of-type {\n",
       "        vertical-align: middle;\n",
       "    }\n",
       "\n",
       "    .dataframe tbody tr th {\n",
       "        vertical-align: top;\n",
       "    }\n",
       "\n",
       "    .dataframe thead th {\n",
       "        text-align: right;\n",
       "    }\n",
       "</style>\n",
       "<table border=\"1\" class=\"dataframe\">\n",
       "  <thead>\n",
       "    <tr style=\"text-align: right;\">\n",
       "      <th></th>\n",
       "      <th>ticker</th>\n",
       "      <th>quantity</th>\n",
       "    </tr>\n",
       "  </thead>\n",
       "  <tbody>\n",
       "    <tr>\n",
       "      <th>0</th>\n",
       "      <td>BTCUSDT</td>\n",
       "      <td>8.800000e+00</td>\n",
       "    </tr>\n",
       "    <tr>\n",
       "      <th>1</th>\n",
       "      <td>money</td>\n",
       "      <td>9.956380e+06</td>\n",
       "    </tr>\n",
       "    <tr>\n",
       "      <th>2</th>\n",
       "      <td>total</td>\n",
       "      <td>1.034415e+07</td>\n",
       "    </tr>\n",
       "  </tbody>\n",
       "</table>\n",
       "</div>"
      ],
      "text/plain": [
       "    ticker      quantity\n",
       "0  BTCUSDT  8.800000e+00\n",
       "1    money  9.956380e+06\n",
       "2    total  1.034415e+07"
      ]
     },
     "execution_count": 3,
     "metadata": {},
     "output_type": "execute_result"
    }
   ],
   "source": [
    "# Status da carteira\n",
    "api_post('status', payload = {'token': token})"
   ]
  },
  {
   "cell_type": "code",
   "execution_count": 4,
   "metadata": {},
   "outputs": [
    {
     "data": {
      "text/plain": [
       "'Compra realizada com sucesso: 0.2 BTCUSDT por 44066.79 a unidade (total de 8813.358) @ 2021-08-08 15:42:45'"
      ]
     },
     "execution_count": 4,
     "metadata": {},
     "output_type": "execute_result"
    }
   ],
   "source": [
    "# Compra de cripto\n",
    "api_post('buy', payload = {'token': token, 'ticker': 'BTCUSDT', 'quantity': 0.2})"
   ]
  },
  {
   "cell_type": "code",
   "execution_count": 10,
   "metadata": {},
   "outputs": [
    {
     "data": {
      "text/html": [
       "<div>\n",
       "<style scoped>\n",
       "    .dataframe tbody tr th:only-of-type {\n",
       "        vertical-align: middle;\n",
       "    }\n",
       "\n",
       "    .dataframe tbody tr th {\n",
       "        vertical-align: top;\n",
       "    }\n",
       "\n",
       "    .dataframe thead th {\n",
       "        text-align: right;\n",
       "    }\n",
       "</style>\n",
       "<table border=\"1\" class=\"dataframe\">\n",
       "  <thead>\n",
       "    <tr style=\"text-align: right;\">\n",
       "      <th></th>\n",
       "      <th>ticker</th>\n",
       "      <th>quantity</th>\n",
       "    </tr>\n",
       "  </thead>\n",
       "  <tbody>\n",
       "    <tr>\n",
       "      <th>0</th>\n",
       "      <td>BTCUSDT</td>\n",
       "      <td>9.00</td>\n",
       "    </tr>\n",
       "    <tr>\n",
       "      <th>1</th>\n",
       "      <td>money</td>\n",
       "      <td>9947570.00</td>\n",
       "    </tr>\n",
       "    <tr>\n",
       "      <th>2</th>\n",
       "      <td>total</td>\n",
       "      <td>10343596.64</td>\n",
       "    </tr>\n",
       "  </tbody>\n",
       "</table>\n",
       "</div>"
      ],
      "text/plain": [
       "    ticker     quantity\n",
       "0  BTCUSDT         9.00\n",
       "1    money   9947570.00\n",
       "2    total  10343596.64"
      ]
     },
     "execution_count": 10,
     "metadata": {},
     "output_type": "execute_result"
    }
   ],
   "source": [
    "# Status da carteira\n",
    "api_post('status', payload = {'token': token})"
   ]
  },
  {
   "cell_type": "code",
   "execution_count": 11,
   "metadata": {},
   "outputs": [
    {
     "data": {
      "text/html": [
       "<div>\n",
       "<style scoped>\n",
       "    .dataframe tbody tr th:only-of-type {\n",
       "        vertical-align: middle;\n",
       "    }\n",
       "\n",
       "    .dataframe tbody tr th {\n",
       "        vertical-align: top;\n",
       "    }\n",
       "\n",
       "    .dataframe thead th {\n",
       "        text-align: right;\n",
       "    }\n",
       "</style>\n",
       "<table border=\"1\" class=\"dataframe\">\n",
       "  <thead>\n",
       "    <tr style=\"text-align: right;\">\n",
       "      <th></th>\n",
       "      <th>ticker</th>\n",
       "      <th>datetime</th>\n",
       "      <th>side</th>\n",
       "      <th>quantity</th>\n",
       "      <th>price</th>\n",
       "    </tr>\n",
       "  </thead>\n",
       "  <tbody>\n",
       "    <tr>\n",
       "      <th>0</th>\n",
       "      <td>BTCUSDT</td>\n",
       "      <td>2021-08-07 16:48:19</td>\n",
       "      <td>buy</td>\n",
       "      <td>1.0</td>\n",
       "      <td>43623.0</td>\n",
       "    </tr>\n",
       "    <tr>\n",
       "      <th>1</th>\n",
       "      <td>BTCUSDT</td>\n",
       "      <td>2021-08-08 15:42:45</td>\n",
       "      <td>buy</td>\n",
       "      <td>0.2</td>\n",
       "      <td>44066.8</td>\n",
       "    </tr>\n",
       "  </tbody>\n",
       "</table>\n",
       "</div>"
      ],
      "text/plain": [
       "    ticker            datetime side  quantity    price\n",
       "0  BTCUSDT 2021-08-07 16:48:19  buy       1.0  43623.0\n",
       "1  BTCUSDT 2021-08-08 15:42:45  buy       0.2  44066.8"
      ]
     },
     "execution_count": 11,
     "metadata": {},
     "output_type": "execute_result"
    }
   ],
   "source": [
    "# Verificando histórico de todas as movimentações\n",
    "api_post('history', payload = {'token': token})"
   ]
  },
  {
   "cell_type": "code",
   "execution_count": 12,
   "metadata": {},
   "outputs": [
    {
     "data": {
      "text/plain": [
       "'Venda realizada com sucesso: 0.2 BTCUSDT por 44096.7 a unidade (total de 8819.34) @ 2021-08-08 15:45:58'"
      ]
     },
     "execution_count": 12,
     "metadata": {},
     "output_type": "execute_result"
    }
   ],
   "source": [
    "# Vendendo cripto\n",
    "api_post('sell', payload = {'token': token, 'ticker': 'BTCUSDT', 'quantity': 0.2})"
   ]
  },
  {
   "cell_type": "code",
   "execution_count": 13,
   "metadata": {},
   "outputs": [
    {
     "data": {
      "text/html": [
       "<div>\n",
       "<style scoped>\n",
       "    .dataframe tbody tr th:only-of-type {\n",
       "        vertical-align: middle;\n",
       "    }\n",
       "\n",
       "    .dataframe tbody tr th {\n",
       "        vertical-align: top;\n",
       "    }\n",
       "\n",
       "    .dataframe thead th {\n",
       "        text-align: right;\n",
       "    }\n",
       "</style>\n",
       "<table border=\"1\" class=\"dataframe\">\n",
       "  <thead>\n",
       "    <tr style=\"text-align: right;\">\n",
       "      <th></th>\n",
       "      <th>ticker</th>\n",
       "      <th>quantity</th>\n",
       "    </tr>\n",
       "  </thead>\n",
       "  <tbody>\n",
       "    <tr>\n",
       "      <th>0</th>\n",
       "      <td>BTCUSDT</td>\n",
       "      <td>8.800000e+00</td>\n",
       "    </tr>\n",
       "    <tr>\n",
       "      <th>1</th>\n",
       "      <td>money</td>\n",
       "      <td>9.956390e+06</td>\n",
       "    </tr>\n",
       "    <tr>\n",
       "      <th>2</th>\n",
       "      <td>total</td>\n",
       "      <td>1.034463e+07</td>\n",
       "    </tr>\n",
       "  </tbody>\n",
       "</table>\n",
       "</div>"
      ],
      "text/plain": [
       "    ticker      quantity\n",
       "0  BTCUSDT  8.800000e+00\n",
       "1    money  9.956390e+06\n",
       "2    total  1.034463e+07"
      ]
     },
     "execution_count": 13,
     "metadata": {},
     "output_type": "execute_result"
    }
   ],
   "source": [
    "# Verificando novamente o status da carteira\n",
    "api_post('status', payload = {'token': token})"
   ]
  }
 ],
 "metadata": {
  "kernelspec": {
   "display_name": "Python (Cripto Bot)",
   "language": "python",
   "name": "cripto_bot"
  },
  "language_info": {
   "codemirror_mode": {
    "name": "ipython",
    "version": 3
   },
   "file_extension": ".py",
   "mimetype": "text/x-python",
   "name": "python",
   "nbconvert_exporter": "python",
   "pygments_lexer": "ipython3",
   "version": "3.7.6"
  }
 },
 "nbformat": 4,
 "nbformat_minor": 4
}
