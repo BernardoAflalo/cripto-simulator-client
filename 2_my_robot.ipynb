{
 "cells": [
  {
   "cell_type": "markdown",
   "metadata": {},
   "source": [
    "### Exemplo de robô simples\n",
    "\n",
    "Abaixo, um exemplo de loop de robô, que checa os preços a cada minutos e:\n",
    "- Se a expectativa é de subida (+0,02%) e tem dinheiro em caixa, compra o equivalente a USD 10\n",
    "- Se a expectativa é de queda (-0,02%) e tem a moeda em caixa, vende o equivalente a USD 10"
   ]
  },
  {
   "cell_type": "code",
   "execution_count": 1,
   "metadata": {},
   "outputs": [
    {
     "name": "stdout",
     "output_type": "stream",
     "text": [
      "-------------------\n",
      "2021-08-08 21:08:48.227789\n",
      "Tendência negativa de -0.0345967998723818\n",
      "Vendendo 41.0 DOGEUSDT\n",
      "     ticker      quantity\n",
      "0   BTCUSDT  5.800000e+00\n",
      "1  DOGEUSDT  4.959000e+03\n",
      "2     money  1.008540e+07\n",
      "3     total  1.034118e+07\n"
     ]
    },
    {
     "ename": "KeyboardInterrupt",
     "evalue": "",
     "output_type": "error",
     "traceback": [
      "\u001b[1;31m---------------------------------------------------------------------------\u001b[0m",
      "\u001b[1;31mKeyboardInterrupt\u001b[0m                         Traceback (most recent call last)",
      "\u001b[1;32m<ipython-input-1-2529eeaff612>\u001b[0m in \u001b[0;36m<module>\u001b[1;34m\u001b[0m\n\u001b[0;32m     67\u001b[0m     \u001b[1;31m# Print do status após cada iteração\u001b[0m\u001b[1;33m\u001b[0m\u001b[1;33m\u001b[0m\u001b[1;33m\u001b[0m\u001b[0m\n\u001b[0;32m     68\u001b[0m     \u001b[0mprint\u001b[0m\u001b[1;33m(\u001b[0m\u001b[0mapi_post\u001b[0m\u001b[1;33m(\u001b[0m\u001b[1;34m'status'\u001b[0m\u001b[1;33m,\u001b[0m \u001b[0mpayload\u001b[0m \u001b[1;33m=\u001b[0m \u001b[1;33m{\u001b[0m\u001b[1;34m'token'\u001b[0m\u001b[1;33m:\u001b[0m \u001b[0mtoken\u001b[0m\u001b[1;33m}\u001b[0m\u001b[1;33m)\u001b[0m\u001b[1;33m)\u001b[0m\u001b[1;33m\u001b[0m\u001b[1;33m\u001b[0m\u001b[0m\n\u001b[1;32m---> 69\u001b[1;33m     \u001b[0mtime\u001b[0m\u001b[1;33m.\u001b[0m\u001b[0msleep\u001b[0m\u001b[1;33m(\u001b[0m\u001b[1;36m60\u001b[0m\u001b[1;33m)\u001b[0m\u001b[1;33m\u001b[0m\u001b[1;33m\u001b[0m\u001b[0m\n\u001b[0m",
      "\u001b[1;31mKeyboardInterrupt\u001b[0m: "
     ]
    }
   ],
   "source": [
    "import pickle\n",
    "import time\n",
    "from simple_robot import feature_eng, api_get, api_post, get_result, compute_quantity, how_much_i_have\n",
    "import numpy as np\n",
    "import pandas as pd\n",
    "\n",
    "# Carregando modelo criado no notebook anterior\n",
    "model = pickle.load(open('model_dummy.pickle', 'rb'))\n",
    "token = 'token_dummy_001'\n",
    "ticker = 'DOGEUSDT'\n",
    "valor_compra_venda = 10\n",
    "\n",
    "# Loop que checa o preço a cada minuto e toma as decisões de compra e venda.\n",
    "while True:\n",
    "    # Pegando o OHLC dos últimos 500 minutos\n",
    "    df = api_post('cripto_quotation', {'token': token, 'ticker': ticker})\n",
    "    \n",
    "    # Realizando a engenharia de features\n",
    "    df = feature_eng(df)\n",
    "    \n",
    "    # Isolando a linha mais recente\n",
    "    df_last = df.iloc[[np.argmax(df['time'])]]\n",
    "    \n",
    "    # Calculando tendência, baseada no modelo linear criado\n",
    "    tendencia = model.predict(df_last).iloc[0]\n",
    "    \n",
    "    # A quantidade de cripto que será comprada/ vendida depende do valor_compra_venda e da cotação atual\n",
    "    qtdade = compute_quantity(coin_value = df_last['close'], invest_value = valor_compra_venda, significant_digits = 2)\n",
    "    \n",
    "    # Print do datetime atual\n",
    "    print('-------------------')\n",
    "    now = pd.to_datetime('now')\n",
    "    print(f'{now}')\n",
    "    \n",
    "    if tendencia > 0.02:\n",
    "        # Modelo detectou uma tendência positiva\n",
    "        print(f\"Tendência positiva de {str(tendencia)}\")\n",
    "        \n",
    "        # Verifica quanto dinheiro tem em caixa\n",
    "        qtdade_money = how_much_i_have('money', token)\n",
    "        \n",
    "        if qtdade_money>0:\n",
    "            # Se tem dinheiro, tenta comprar o equivalente a qtdade ou o máximo que o dinheiro permitir\n",
    "            max_qtdade = compute_quantity(coin_value = df_last['close'], invest_value = qtdade_money, significant_digits = 2)\n",
    "            qtdade = min(qtdade, max_qtdade)\n",
    "            \n",
    "            # Realizando a compra\n",
    "            print(f'Comprando {str(qtdade)} {ticker}')\n",
    "            api_post('buy', payload = {'token': token, 'ticker': ticker, 'quantity': qtdade})\n",
    "        \n",
    "    elif tendencia < -0.02:\n",
    "        # Modelo detectou uma tendência negativa\n",
    "        print(f\"Tendência negativa de {str(tendencia)}\")\n",
    "        \n",
    "        # Verifica quanto tem da moeda em caixa\n",
    "        qtdade_coin = how_much_i_have(ticker, token)\n",
    "        \n",
    "        if qtdade_coin>0:\n",
    "            # Se tenho a moeda, vou vender!\n",
    "            qtdade = min(qtdade_coin, qtdade)\n",
    "            print(f'Vendendo {str(qtdade)} {ticker}')\n",
    "            api_post('sell', payload = {'token': token, 'ticker': ticker, 'quantity':qtdade})\n",
    "    else:\n",
    "        # Não faz nenhuma ação, espera próximo loop\n",
    "        print(f\"Tendência neutra de {str(tendencia)}. Nenhuma ação realizada\")\n",
    "    \n",
    "    # Print do status após cada iteração\n",
    "    print(api_post('status', payload = {'token': token}))\n",
    "    time.sleep(60)"
   ]
  }
 ],
 "metadata": {
  "kernelspec": {
   "display_name": "Python (Cripto Bot)",
   "language": "python",
   "name": "cripto_bot"
  }
 },
 "nbformat": 4,
 "nbformat_minor": 4
}
