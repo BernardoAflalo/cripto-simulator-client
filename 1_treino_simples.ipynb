{
 "cells": [
  {
   "cell_type": "markdown",
   "metadata": {},
   "source": [
    "### Exemplo de treinamento simples"
   ]
  },
  {
   "cell_type": "code",
   "execution_count": 1,
   "metadata": {},
   "outputs": [],
   "source": [
    "import pandas as pd\n",
    "import numpy as np\n",
    "import statsmodels.api as sm\n",
    "import pickle\n",
    "from simple_robot import feature_eng\n",
    "# Baixando os dados de DOGE COIN\n",
    "df = pd.read_parquet('https://drive.google.com/u/0/uc?id=17c2r9qbnsxPVxaYukrp6vhTY-CQy8WZa&export=download')"
   ]
  },
  {
   "cell_type": "markdown",
   "metadata": {},
   "source": [
    "#### Calculando o target (y)"
   ]
  },
  {
   "cell_type": "code",
   "execution_count": 2,
   "metadata": {},
   "outputs": [
    {
     "data": {
      "text/html": [
       "<div>\n",
       "<style scoped>\n",
       "    .dataframe tbody tr th:only-of-type {\n",
       "        vertical-align: middle;\n",
       "    }\n",
       "\n",
       "    .dataframe tbody tr th {\n",
       "        vertical-align: top;\n",
       "    }\n",
       "\n",
       "    .dataframe thead th {\n",
       "        text-align: right;\n",
       "    }\n",
       "</style>\n",
       "<table border=\"1\" class=\"dataframe\">\n",
       "  <thead>\n",
       "    <tr style=\"text-align: right;\">\n",
       "      <th></th>\n",
       "      <th>symbol</th>\n",
       "      <th>datetime</th>\n",
       "      <th>close_time</th>\n",
       "      <th>open</th>\n",
       "      <th>high</th>\n",
       "      <th>low</th>\n",
       "      <th>close</th>\n",
       "      <th>volume</th>\n",
       "      <th>number_of_trades</th>\n",
       "      <th>forward_average</th>\n",
       "      <th>target</th>\n",
       "    </tr>\n",
       "    <tr>\n",
       "      <th>open_time</th>\n",
       "      <th></th>\n",
       "      <th></th>\n",
       "      <th></th>\n",
       "      <th></th>\n",
       "      <th></th>\n",
       "      <th></th>\n",
       "      <th></th>\n",
       "      <th></th>\n",
       "      <th></th>\n",
       "      <th></th>\n",
       "      <th></th>\n",
       "    </tr>\n",
       "  </thead>\n",
       "  <tbody>\n",
       "    <tr>\n",
       "      <th>2019-07-05 12:00:00</th>\n",
       "      <td>DOGEUSDT</td>\n",
       "      <td>2019-07-05 12:00:00</td>\n",
       "      <td>1562328059999</td>\n",
       "      <td>0.00449</td>\n",
       "      <td>0.004600</td>\n",
       "      <td>0.00376</td>\n",
       "      <td>0.004200</td>\n",
       "      <td>60726008.0</td>\n",
       "      <td>521</td>\n",
       "      <td>0.004201</td>\n",
       "      <td>0.018099</td>\n",
       "    </tr>\n",
       "    <tr>\n",
       "      <th>2019-07-05 12:01:00</th>\n",
       "      <td>DOGEUSDT</td>\n",
       "      <td>2019-07-05 12:01:00</td>\n",
       "      <td>1562328119999</td>\n",
       "      <td>0.00420</td>\n",
       "      <td>0.004387</td>\n",
       "      <td>0.00420</td>\n",
       "      <td>0.004300</td>\n",
       "      <td>84307704.0</td>\n",
       "      <td>561</td>\n",
       "      <td>0.004158</td>\n",
       "      <td>-3.309539</td>\n",
       "    </tr>\n",
       "    <tr>\n",
       "      <th>2019-07-05 12:02:00</th>\n",
       "      <td>DOGEUSDT</td>\n",
       "      <td>2019-07-05 12:02:00</td>\n",
       "      <td>1562328179999</td>\n",
       "      <td>0.00430</td>\n",
       "      <td>0.004475</td>\n",
       "      <td>0.00430</td>\n",
       "      <td>0.004475</td>\n",
       "      <td>48182744.0</td>\n",
       "      <td>291</td>\n",
       "      <td>0.004099</td>\n",
       "      <td>-8.400496</td>\n",
       "    </tr>\n",
       "  </tbody>\n",
       "</table>\n",
       "</div>"
      ],
      "text/plain": [
       "                       symbol            datetime     close_time     open  \\\n",
       "open_time                                                                   \n",
       "2019-07-05 12:00:00  DOGEUSDT 2019-07-05 12:00:00  1562328059999  0.00449   \n",
       "2019-07-05 12:01:00  DOGEUSDT 2019-07-05 12:01:00  1562328119999  0.00420   \n",
       "2019-07-05 12:02:00  DOGEUSDT 2019-07-05 12:02:00  1562328179999  0.00430   \n",
       "\n",
       "                         high      low     close      volume  \\\n",
       "open_time                                                      \n",
       "2019-07-05 12:00:00  0.004600  0.00376  0.004200  60726008.0   \n",
       "2019-07-05 12:01:00  0.004387  0.00420  0.004300  84307704.0   \n",
       "2019-07-05 12:02:00  0.004475  0.00430  0.004475  48182744.0   \n",
       "\n",
       "                     number_of_trades  forward_average    target  \n",
       "open_time                                                         \n",
       "2019-07-05 12:00:00               521         0.004201  0.018099  \n",
       "2019-07-05 12:01:00               561         0.004158 -3.309539  \n",
       "2019-07-05 12:02:00               291         0.004099 -8.400496  "
      ]
     },
     "execution_count": 2,
     "metadata": {},
     "output_type": "execute_result"
    }
   ],
   "source": [
    "# Calculando qual a média de close dos próximos 10min\n",
    "df['forward_average'] = df[::-1]['close'].rolling(10).mean()[::-1].shift(-1)\n",
    "\n",
    "# Target será a diferença percentual do 'forward_average' com o 'close' atual \n",
    "df['target'] = 100*(df['forward_average'] - df['close']) / df['close']\n",
    "\n",
    "df.head(3)\n",
    "# Outra possibilidade: target como a diferença entre o proximo minuto e o atual: df['diff']= -df['close'].diff(-1)"
   ]
  },
  {
   "cell_type": "markdown",
   "metadata": {},
   "source": [
    "#### Calculando as features (x)"
   ]
  },
  {
   "cell_type": "code",
   "execution_count": 3,
   "metadata": {},
   "outputs": [
    {
     "data": {
      "text/html": [
       "<div>\n",
       "<style scoped>\n",
       "    .dataframe tbody tr th:only-of-type {\n",
       "        vertical-align: middle;\n",
       "    }\n",
       "\n",
       "    .dataframe tbody tr th {\n",
       "        vertical-align: top;\n",
       "    }\n",
       "\n",
       "    .dataframe thead th {\n",
       "        text-align: right;\n",
       "    }\n",
       "</style>\n",
       "<table border=\"1\" class=\"dataframe\">\n",
       "  <thead>\n",
       "    <tr style=\"text-align: right;\">\n",
       "      <th></th>\n",
       "      <th>const</th>\n",
       "      <th>close</th>\n",
       "      <th>volume</th>\n",
       "      <th>number_of_trades</th>\n",
       "      <th>target</th>\n",
       "      <th>lag_1</th>\n",
       "      <th>lag_2</th>\n",
       "      <th>ma_10</th>\n",
       "      <th>ma_30</th>\n",
       "      <th>ratio_ma</th>\n",
       "      <th>time</th>\n",
       "    </tr>\n",
       "    <tr>\n",
       "      <th>open_time</th>\n",
       "      <th></th>\n",
       "      <th></th>\n",
       "      <th></th>\n",
       "      <th></th>\n",
       "      <th></th>\n",
       "      <th></th>\n",
       "      <th></th>\n",
       "      <th></th>\n",
       "      <th></th>\n",
       "      <th></th>\n",
       "      <th></th>\n",
       "    </tr>\n",
       "  </thead>\n",
       "  <tbody>\n",
       "    <tr>\n",
       "      <th>2019-07-05 12:29:00</th>\n",
       "      <td>1.0</td>\n",
       "      <td>0.003810</td>\n",
       "      <td>12415741.0</td>\n",
       "      <td>59</td>\n",
       "      <td>1.444208</td>\n",
       "      <td>0.761075</td>\n",
       "      <td>-0.763702</td>\n",
       "      <td>0.003874</td>\n",
       "      <td>0.003997</td>\n",
       "      <td>0.969227</td>\n",
       "      <td>0</td>\n",
       "    </tr>\n",
       "    <tr>\n",
       "      <th>2019-07-05 12:30:00</th>\n",
       "      <td>1.0</td>\n",
       "      <td>0.003810</td>\n",
       "      <td>4488370.0</td>\n",
       "      <td>68</td>\n",
       "      <td>1.678743</td>\n",
       "      <td>-0.010499</td>\n",
       "      <td>0.750656</td>\n",
       "      <td>0.003860</td>\n",
       "      <td>0.003984</td>\n",
       "      <td>0.968800</td>\n",
       "      <td>1</td>\n",
       "    </tr>\n",
       "    <tr>\n",
       "      <th>2019-07-05 12:31:00</th>\n",
       "      <td>1.0</td>\n",
       "      <td>0.003860</td>\n",
       "      <td>6436490.0</td>\n",
       "      <td>74</td>\n",
       "      <td>0.439895</td>\n",
       "      <td>1.295341</td>\n",
       "      <td>1.284978</td>\n",
       "      <td>0.003856</td>\n",
       "      <td>0.003969</td>\n",
       "      <td>0.971372</td>\n",
       "      <td>2</td>\n",
       "    </tr>\n",
       "    <tr>\n",
       "      <th>2019-07-05 12:32:00</th>\n",
       "      <td>1.0</td>\n",
       "      <td>0.003847</td>\n",
       "      <td>6321878.0</td>\n",
       "      <td>61</td>\n",
       "      <td>0.887680</td>\n",
       "      <td>-0.335317</td>\n",
       "      <td>0.964367</td>\n",
       "      <td>0.003845</td>\n",
       "      <td>0.003949</td>\n",
       "      <td>0.973784</td>\n",
       "      <td>3</td>\n",
       "    </tr>\n",
       "    <tr>\n",
       "      <th>2019-07-05 12:33:00</th>\n",
       "      <td>1.0</td>\n",
       "      <td>0.003840</td>\n",
       "      <td>1257411.0</td>\n",
       "      <td>18</td>\n",
       "      <td>1.221779</td>\n",
       "      <td>-0.177071</td>\n",
       "      <td>-0.512982</td>\n",
       "      <td>0.003837</td>\n",
       "      <td>0.003935</td>\n",
       "      <td>0.975138</td>\n",
       "      <td>4</td>\n",
       "    </tr>\n",
       "  </tbody>\n",
       "</table>\n",
       "</div>"
      ],
      "text/plain": [
       "                     const     close      volume  number_of_trades    target  \\\n",
       "open_time                                                                      \n",
       "2019-07-05 12:29:00    1.0  0.003810  12415741.0                59  1.444208   \n",
       "2019-07-05 12:30:00    1.0  0.003810   4488370.0                68  1.678743   \n",
       "2019-07-05 12:31:00    1.0  0.003860   6436490.0                74  0.439895   \n",
       "2019-07-05 12:32:00    1.0  0.003847   6321878.0                61  0.887680   \n",
       "2019-07-05 12:33:00    1.0  0.003840   1257411.0                18  1.221779   \n",
       "\n",
       "                        lag_1     lag_2     ma_10     ma_30  ratio_ma  time  \n",
       "open_time                                                                    \n",
       "2019-07-05 12:29:00  0.761075 -0.763702  0.003874  0.003997  0.969227     0  \n",
       "2019-07-05 12:30:00 -0.010499  0.750656  0.003860  0.003984  0.968800     1  \n",
       "2019-07-05 12:31:00  1.295341  1.284978  0.003856  0.003969  0.971372     2  \n",
       "2019-07-05 12:32:00 -0.335317  0.964367  0.003845  0.003949  0.973784     3  \n",
       "2019-07-05 12:33:00 -0.177071 -0.512982  0.003837  0.003935  0.975138     4  "
      ]
     },
     "execution_count": 3,
     "metadata": {},
     "output_type": "execute_result"
    }
   ],
   "source": [
    "# Toda a parte de criação de features está no arquivo simple_robot.py. Aqui apenas chamamos a função. Isso é útil, pois conseguimos usar a mesma função no momento de colocar o robô em produção\n",
    "df = feature_eng(df)\n",
    "df.head(5)"
   ]
  },
  {
   "cell_type": "markdown",
   "metadata": {},
   "source": [
    "#### Separando em treino/ teste\n",
    "Separando usando data. Isso é importante, pois precisamos entender se os modelos criados em um tempo passado continua sendo útil em um tempo futuro."
   ]
  },
  {
   "cell_type": "code",
   "execution_count": 4,
   "metadata": {},
   "outputs": [
    {
     "data": {
      "text/html": [
       "<table class=\"simpletable\">\n",
       "<caption>OLS Regression Results</caption>\n",
       "<tr>\n",
       "  <th>Dep. Variable:</th>         <td>target</td>      <th>  R-squared:         </th>  <td>   0.012</td>  \n",
       "</tr>\n",
       "<tr>\n",
       "  <th>Model:</th>                   <td>OLS</td>       <th>  Adj. R-squared:    </th>  <td>   0.012</td>  \n",
       "</tr>\n",
       "<tr>\n",
       "  <th>Method:</th>             <td>Least Squares</td>  <th>  F-statistic:       </th>  <td>   1320.</td>  \n",
       "</tr>\n",
       "<tr>\n",
       "  <th>Date:</th>             <td>Sun, 08 Aug 2021</td> <th>  Prob (F-statistic):</th>   <td>  0.00</td>   \n",
       "</tr>\n",
       "<tr>\n",
       "  <th>Time:</th>                 <td>12:54:02</td>     <th>  Log-Likelihood:    </th> <td>-7.4021e+05</td>\n",
       "</tr>\n",
       "<tr>\n",
       "  <th>No. Observations:</th>      <td>1000328</td>     <th>  AIC:               </th>  <td>1.480e+06</td> \n",
       "</tr>\n",
       "<tr>\n",
       "  <th>Df Residuals:</th>          <td>1000318</td>     <th>  BIC:               </th>  <td>1.481e+06</td> \n",
       "</tr>\n",
       "<tr>\n",
       "  <th>Df Model:</th>              <td>     9</td>      <th>                     </th>      <td> </td>     \n",
       "</tr>\n",
       "<tr>\n",
       "  <th>Covariance Type:</th>      <td>nonrobust</td>    <th>                     </th>      <td> </td>     \n",
       "</tr>\n",
       "</table>\n",
       "<table class=\"simpletable\">\n",
       "<tr>\n",
       "          <td></td>            <th>coef</th>     <th>std err</th>      <th>t</th>      <th>P>|t|</th>  <th>[0.025</th>    <th>0.975]</th>  \n",
       "</tr>\n",
       "<tr>\n",
       "  <th>const</th>            <td>    2.6935</td> <td>    0.122</td> <td>   22.041</td> <td> 0.000</td> <td>    2.454</td> <td>    2.933</td>\n",
       "</tr>\n",
       "<tr>\n",
       "  <th>close</th>            <td>  -12.4440</td> <td>    0.651</td> <td>  -19.120</td> <td> 0.000</td> <td>  -13.720</td> <td>  -11.168</td>\n",
       "</tr>\n",
       "<tr>\n",
       "  <th>volume</th>           <td> 4.515e-09</td> <td> 8.09e-11</td> <td>   55.808</td> <td> 0.000</td> <td> 4.36e-09</td> <td> 4.67e-09</td>\n",
       "</tr>\n",
       "<tr>\n",
       "  <th>number_of_trades</th> <td> 3.849e-06</td> <td>  6.4e-07</td> <td>    6.009</td> <td> 0.000</td> <td> 2.59e-06</td> <td>  5.1e-06</td>\n",
       "</tr>\n",
       "<tr>\n",
       "  <th>lag_1</th>            <td>   -0.0266</td> <td>    0.003</td> <td>  -10.584</td> <td> 0.000</td> <td>   -0.031</td> <td>   -0.022</td>\n",
       "</tr>\n",
       "<tr>\n",
       "  <th>lag_2</th>            <td>   -0.0665</td> <td>    0.002</td> <td>  -35.035</td> <td> 0.000</td> <td>   -0.070</td> <td>   -0.063</td>\n",
       "</tr>\n",
       "<tr>\n",
       "  <th>ma_10</th>            <td>   13.1863</td> <td>    0.997</td> <td>   13.225</td> <td> 0.000</td> <td>   11.232</td> <td>   15.141</td>\n",
       "</tr>\n",
       "<tr>\n",
       "  <th>ma_30</th>            <td>   -0.8399</td> <td>    0.617</td> <td>   -1.361</td> <td> 0.174</td> <td>   -2.050</td> <td>    0.370</td>\n",
       "</tr>\n",
       "<tr>\n",
       "  <th>ratio_ma</th>         <td>   -2.6946</td> <td>    0.122</td> <td>  -22.052</td> <td> 0.000</td> <td>   -2.934</td> <td>   -2.455</td>\n",
       "</tr>\n",
       "<tr>\n",
       "  <th>time</th>             <td> 1.798e-10</td> <td> 2.05e-09</td> <td>    0.087</td> <td> 0.930</td> <td>-3.85e-09</td> <td> 4.21e-09</td>\n",
       "</tr>\n",
       "</table>\n",
       "<table class=\"simpletable\">\n",
       "<tr>\n",
       "  <th>Omnibus:</th>       <td>483216.165</td> <th>  Durbin-Watson:     </th>   <td>   0.279</td>   \n",
       "</tr>\n",
       "<tr>\n",
       "  <th>Prob(Omnibus):</th>   <td> 0.000</td>   <th>  Jarque-Bera (JB):  </th> <td>690137035.388</td>\n",
       "</tr>\n",
       "<tr>\n",
       "  <th>Skew:</th>            <td> 0.746</td>   <th>  Prob(JB):          </th>   <td>    0.00</td>   \n",
       "</tr>\n",
       "<tr>\n",
       "  <th>Kurtosis:</th>        <td>131.669</td>  <th>  Cond. No.          </th>   <td>2.06e+10</td>   \n",
       "</tr>\n",
       "</table><br/><br/>Warnings:<br/>[1] Standard Errors assume that the covariance matrix of the errors is correctly specified.<br/>[2] The condition number is large, 2.06e+10. This might indicate that there are<br/>strong multicollinearity or other numerical problems."
      ],
      "text/plain": [
       "<class 'statsmodels.iolib.summary.Summary'>\n",
       "\"\"\"\n",
       "                            OLS Regression Results                            \n",
       "==============================================================================\n",
       "Dep. Variable:                 target   R-squared:                       0.012\n",
       "Model:                            OLS   Adj. R-squared:                  0.012\n",
       "Method:                 Least Squares   F-statistic:                     1320.\n",
       "Date:                Sun, 08 Aug 2021   Prob (F-statistic):               0.00\n",
       "Time:                        12:54:02   Log-Likelihood:            -7.4021e+05\n",
       "No. Observations:             1000328   AIC:                         1.480e+06\n",
       "Df Residuals:                 1000318   BIC:                         1.481e+06\n",
       "Df Model:                           9                                         \n",
       "Covariance Type:            nonrobust                                         \n",
       "====================================================================================\n",
       "                       coef    std err          t      P>|t|      [0.025      0.975]\n",
       "------------------------------------------------------------------------------------\n",
       "const                2.6935      0.122     22.041      0.000       2.454       2.933\n",
       "close              -12.4440      0.651    -19.120      0.000     -13.720     -11.168\n",
       "volume            4.515e-09   8.09e-11     55.808      0.000    4.36e-09    4.67e-09\n",
       "number_of_trades  3.849e-06    6.4e-07      6.009      0.000    2.59e-06     5.1e-06\n",
       "lag_1               -0.0266      0.003    -10.584      0.000      -0.031      -0.022\n",
       "lag_2               -0.0665      0.002    -35.035      0.000      -0.070      -0.063\n",
       "ma_10               13.1863      0.997     13.225      0.000      11.232      15.141\n",
       "ma_30               -0.8399      0.617     -1.361      0.174      -2.050       0.370\n",
       "ratio_ma            -2.6946      0.122    -22.052      0.000      -2.934      -2.455\n",
       "time              1.798e-10   2.05e-09      0.087      0.930   -3.85e-09    4.21e-09\n",
       "==============================================================================\n",
       "Omnibus:                   483216.165   Durbin-Watson:                   0.279\n",
       "Prob(Omnibus):                  0.000   Jarque-Bera (JB):        690137035.388\n",
       "Skew:                           0.746   Prob(JB):                         0.00\n",
       "Kurtosis:                     131.669   Cond. No.                     2.06e+10\n",
       "==============================================================================\n",
       "\n",
       "Warnings:\n",
       "[1] Standard Errors assume that the covariance matrix of the errors is correctly specified.\n",
       "[2] The condition number is large, 2.06e+10. This might indicate that there are\n",
       "strong multicollinearity or other numerical problems.\n",
       "\"\"\""
      ]
     },
     "execution_count": 4,
     "metadata": {},
     "output_type": "execute_result"
    }
   ],
   "source": [
    "test_treshold = '2021-06-01 00:00:00'\n",
    "\n",
    "train = df[df.index <= test_treshold]\n",
    "test = df[df.index > test_treshold]\n",
    "\n",
    "X_train = train.drop(columns=['target'])\n",
    "y_train = train['target']\n",
    "\n",
    "X_test = test.drop(columns=['target'])\n",
    "y_test = test['target']\n",
    "\n",
    "# Modelo linear simples\n",
    "model = sm.OLS(y_train,X_train).fit()\n",
    "model.summary()"
   ]
  },
  {
   "cell_type": "markdown",
   "metadata": {},
   "source": [
    "#### Resultado do Modelo Linear"
   ]
  },
  {
   "cell_type": "code",
   "execution_count": 6,
   "metadata": {},
   "outputs": [
    {
     "data": {
      "text/plain": [
       "0.17070794256499783"
      ]
     },
     "execution_count": 6,
     "metadata": {},
     "output_type": "execute_result"
    }
   ],
   "source": [
    "y_hat = model.predict(X_test)\n",
    "MSE = ((y_hat - y_test)**2).mean()\n",
    "MSE"
   ]
  },
  {
   "cell_type": "code",
   "execution_count": 7,
   "metadata": {},
   "outputs": [
    {
     "data": {
      "text/plain": [
       "0.26346826055111083"
      ]
     },
     "execution_count": 7,
     "metadata": {},
     "output_type": "execute_result"
    }
   ],
   "source": [
    "MAE = ((y_hat - y_test).abs()).mean()\n",
    "MAE"
   ]
  },
  {
   "cell_type": "markdown",
   "metadata": {},
   "source": [
    "#### Referência\n",
    "É sempre recomendado ter valores de referência, para saber se seu modelo é ou não melhor do que outras alternativas \"naive\"\n",
    "\n",
    "Abaixo, um exemplo de resultado Naive, assumindo todos 0"
   ]
  },
  {
   "cell_type": "code",
   "execution_count": 8,
   "metadata": {},
   "outputs": [
    {
     "data": {
      "text/plain": [
       "0.16986135624179463"
      ]
     },
     "execution_count": 8,
     "metadata": {},
     "output_type": "execute_result"
    }
   ],
   "source": [
    "MSE_assuming_all_zero = (y_test**2).mean()\n",
    "MSE_assuming_all_zero"
   ]
  },
  {
   "cell_type": "code",
   "execution_count": 9,
   "metadata": {},
   "outputs": [
    {
     "data": {
      "text/plain": [
       "0.2633675092910254"
      ]
     },
     "execution_count": 9,
     "metadata": {},
     "output_type": "execute_result"
    }
   ],
   "source": [
    "MAE_assuming_all_zero = (y_test.abs()).mean()\n",
    "MAE_assuming_all_zero"
   ]
  },
  {
   "cell_type": "code",
   "execution_count": 10,
   "metadata": {},
   "outputs": [],
   "source": [
    "# Salvando o modelo em um arquivo pickle para ser utilizado nas etapas seguintes\n",
    "filename = 'model_dummy.pickle'\n",
    "pickle.dump(model, open(filename, 'wb'))"
   ]
  }
 ],
 "metadata": {
  "kernelspec": {
   "display_name": "Python (Cripto Bot)",
   "language": "python",
   "name": "cripto_bot"
  },
  "language_info": {
   "codemirror_mode": {
    "name": "ipython",
    "version": 3
   },
   "file_extension": ".py",
   "mimetype": "text/x-python",
   "name": "python",
   "nbconvert_exporter": "python",
   "pygments_lexer": "ipython3",
   "version": "3.7.6"
  }
 },
 "nbformat": 4,
 "nbformat_minor": 4
}
